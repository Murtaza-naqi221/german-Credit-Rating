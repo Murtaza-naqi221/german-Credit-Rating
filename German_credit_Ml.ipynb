{
 "cells": [
  {
   "cell_type": "markdown",
   "id": "df0d8e8a",
   "metadata": {},
   "source": [
    "#                                    Business Analystics (Assignment 1)"
   ]
  },
  {
   "cell_type": "markdown",
   "id": "f4b810a4",
   "metadata": {},
   "source": [
    "## Exploratory Data Analysis"
   ]
  },
  {
   "cell_type": "markdown",
   "id": "3e894955",
   "metadata": {},
   "source": [
    "#### Importing necessary Libraries"
   ]
  },
  {
   "cell_type": "code",
   "execution_count": 1,
   "id": "523456b0",
   "metadata": {},
   "outputs": [],
   "source": [
    "import pandas as pd\n",
    "import numpy as np\n",
    "import matplotlib.pyplot as plt\n",
    "import seaborn as sns\n",
    "from matplotlib import pyplot\n",
    "from matplotlib.patches import Patch\n",
    "from matplotlib.lines import Line2D\n",
    "from sklearn.model_selection import train_test_split\n",
    "from sklearn.linear_model import LogisticRegression\n",
    "from sklearn.metrics import accuracy_score\n",
    "from sklearn import svm, datasets"
   ]
  },
  {
   "cell_type": "code",
   "execution_count": 2,
   "id": "c143f93e",
   "metadata": {},
   "outputs": [
    {
     "data": {
      "text/html": [
       "<div>\n",
       "<style scoped>\n",
       "    .dataframe tbody tr th:only-of-type {\n",
       "        vertical-align: middle;\n",
       "    }\n",
       "\n",
       "    .dataframe tbody tr th {\n",
       "        vertical-align: top;\n",
       "    }\n",
       "\n",
       "    .dataframe thead th {\n",
       "        text-align: right;\n",
       "    }\n",
       "</style>\n",
       "<table border=\"1\" class=\"dataframe\">\n",
       "  <thead>\n",
       "    <tr style=\"text-align: right;\">\n",
       "      <th></th>\n",
       "      <th>checkingAccount</th>\n",
       "      <th>DurationMonth</th>\n",
       "      <th>CreditHistory</th>\n",
       "      <th>Purpose</th>\n",
       "      <th>CreditAmount</th>\n",
       "      <th>SavingsAccount/bonds</th>\n",
       "      <th>PresentEmploymentSince</th>\n",
       "      <th>InstallmentRatePercentage</th>\n",
       "      <th>PersonalStatus</th>\n",
       "      <th>OtherDebtors</th>\n",
       "      <th>...</th>\n",
       "      <th>Property</th>\n",
       "      <th>Age</th>\n",
       "      <th>OtherInstallment</th>\n",
       "      <th>Housing</th>\n",
       "      <th>NumberOfExistingCredits</th>\n",
       "      <th>Job</th>\n",
       "      <th>NumberLiabiltyPeople</th>\n",
       "      <th>Telephone</th>\n",
       "      <th>foreignWorker</th>\n",
       "      <th>status</th>\n",
       "    </tr>\n",
       "  </thead>\n",
       "  <tbody>\n",
       "    <tr>\n",
       "      <th>0</th>\n",
       "      <td>A11</td>\n",
       "      <td>6</td>\n",
       "      <td>A34</td>\n",
       "      <td>A43</td>\n",
       "      <td>1169</td>\n",
       "      <td>A65</td>\n",
       "      <td>A75</td>\n",
       "      <td>4</td>\n",
       "      <td>A93</td>\n",
       "      <td>A101</td>\n",
       "      <td>...</td>\n",
       "      <td>A121</td>\n",
       "      <td>67</td>\n",
       "      <td>A143</td>\n",
       "      <td>A152</td>\n",
       "      <td>2</td>\n",
       "      <td>A173</td>\n",
       "      <td>1</td>\n",
       "      <td>A192</td>\n",
       "      <td>A201</td>\n",
       "      <td>1</td>\n",
       "    </tr>\n",
       "    <tr>\n",
       "      <th>1</th>\n",
       "      <td>A12</td>\n",
       "      <td>48</td>\n",
       "      <td>A32</td>\n",
       "      <td>A43</td>\n",
       "      <td>5951</td>\n",
       "      <td>A61</td>\n",
       "      <td>A73</td>\n",
       "      <td>2</td>\n",
       "      <td>A92</td>\n",
       "      <td>A101</td>\n",
       "      <td>...</td>\n",
       "      <td>A121</td>\n",
       "      <td>22</td>\n",
       "      <td>A143</td>\n",
       "      <td>A152</td>\n",
       "      <td>1</td>\n",
       "      <td>A173</td>\n",
       "      <td>1</td>\n",
       "      <td>A191</td>\n",
       "      <td>A201</td>\n",
       "      <td>2</td>\n",
       "    </tr>\n",
       "    <tr>\n",
       "      <th>2</th>\n",
       "      <td>A14</td>\n",
       "      <td>12</td>\n",
       "      <td>A34</td>\n",
       "      <td>A46</td>\n",
       "      <td>2096</td>\n",
       "      <td>A61</td>\n",
       "      <td>A74</td>\n",
       "      <td>2</td>\n",
       "      <td>A93</td>\n",
       "      <td>A101</td>\n",
       "      <td>...</td>\n",
       "      <td>A121</td>\n",
       "      <td>49</td>\n",
       "      <td>A143</td>\n",
       "      <td>A152</td>\n",
       "      <td>1</td>\n",
       "      <td>A172</td>\n",
       "      <td>2</td>\n",
       "      <td>A191</td>\n",
       "      <td>A201</td>\n",
       "      <td>1</td>\n",
       "    </tr>\n",
       "    <tr>\n",
       "      <th>3</th>\n",
       "      <td>A11</td>\n",
       "      <td>42</td>\n",
       "      <td>A32</td>\n",
       "      <td>A42</td>\n",
       "      <td>7882</td>\n",
       "      <td>A61</td>\n",
       "      <td>A74</td>\n",
       "      <td>2</td>\n",
       "      <td>A93</td>\n",
       "      <td>A103</td>\n",
       "      <td>...</td>\n",
       "      <td>A122</td>\n",
       "      <td>45</td>\n",
       "      <td>A143</td>\n",
       "      <td>A153</td>\n",
       "      <td>1</td>\n",
       "      <td>A173</td>\n",
       "      <td>2</td>\n",
       "      <td>A191</td>\n",
       "      <td>A201</td>\n",
       "      <td>1</td>\n",
       "    </tr>\n",
       "    <tr>\n",
       "      <th>4</th>\n",
       "      <td>A11</td>\n",
       "      <td>24</td>\n",
       "      <td>A33</td>\n",
       "      <td>A40</td>\n",
       "      <td>4870</td>\n",
       "      <td>A61</td>\n",
       "      <td>A73</td>\n",
       "      <td>3</td>\n",
       "      <td>A93</td>\n",
       "      <td>A101</td>\n",
       "      <td>...</td>\n",
       "      <td>A124</td>\n",
       "      <td>53</td>\n",
       "      <td>A143</td>\n",
       "      <td>A153</td>\n",
       "      <td>2</td>\n",
       "      <td>A173</td>\n",
       "      <td>2</td>\n",
       "      <td>A191</td>\n",
       "      <td>A201</td>\n",
       "      <td>2</td>\n",
       "    </tr>\n",
       "  </tbody>\n",
       "</table>\n",
       "<p>5 rows × 21 columns</p>\n",
       "</div>"
      ],
      "text/plain": [
       "  checkingAccount  DurationMonth CreditHistory Purpose  CreditAmount  \\\n",
       "0             A11              6           A34     A43          1169   \n",
       "1             A12             48           A32     A43          5951   \n",
       "2             A14             12           A34     A46          2096   \n",
       "3             A11             42           A32     A42          7882   \n",
       "4             A11             24           A33     A40          4870   \n",
       "\n",
       "  SavingsAccount/bonds PresentEmploymentSince  InstallmentRatePercentage  \\\n",
       "0                  A65                    A75                          4   \n",
       "1                  A61                    A73                          2   \n",
       "2                  A61                    A74                          2   \n",
       "3                  A61                    A74                          2   \n",
       "4                  A61                    A73                          3   \n",
       "\n",
       "  PersonalStatus OtherDebtors  ...  Property Age  OtherInstallment Housing  \\\n",
       "0            A93         A101  ...      A121  67              A143    A152   \n",
       "1            A92         A101  ...      A121  22              A143    A152   \n",
       "2            A93         A101  ...      A121  49              A143    A152   \n",
       "3            A93         A103  ...      A122  45              A143    A153   \n",
       "4            A93         A101  ...      A124  53              A143    A153   \n",
       "\n",
       "  NumberOfExistingCredits   Job NumberLiabiltyPeople  Telephone foreignWorker  \\\n",
       "0                       2  A173                    1       A192          A201   \n",
       "1                       1  A173                    1       A191          A201   \n",
       "2                       1  A172                    2       A191          A201   \n",
       "3                       1  A173                    2       A191          A201   \n",
       "4                       2  A173                    2       A191          A201   \n",
       "\n",
       "  status  \n",
       "0      1  \n",
       "1      2  \n",
       "2      1  \n",
       "3      1  \n",
       "4      2  \n",
       "\n",
       "[5 rows x 21 columns]"
      ]
     },
     "execution_count": 2,
     "metadata": {},
     "output_type": "execute_result"
    }
   ],
   "source": [
    "df = pd.read_csv('german_data.csv')\n",
    "df.head()"
   ]
  },
  {
   "cell_type": "code",
   "execution_count": 3,
   "id": "c88e41a6",
   "metadata": {},
   "outputs": [
    {
     "name": "stdout",
     "output_type": "stream",
     "text": [
      "<class 'pandas.core.frame.DataFrame'>\n",
      "RangeIndex: 1000 entries, 0 to 999\n",
      "Data columns (total 21 columns):\n",
      " #   Column                     Non-Null Count  Dtype \n",
      "---  ------                     --------------  ----- \n",
      " 0   checkingAccount            1000 non-null   object\n",
      " 1   DurationMonth              1000 non-null   int64 \n",
      " 2   CreditHistory              1000 non-null   object\n",
      " 3   Purpose                    1000 non-null   object\n",
      " 4   CreditAmount               1000 non-null   int64 \n",
      " 5   SavingsAccount/bonds       1000 non-null   object\n",
      " 6   PresentEmploymentSince     1000 non-null   object\n",
      " 7   InstallmentRatePercentage  1000 non-null   int64 \n",
      " 8   PersonalStatus             1000 non-null   object\n",
      " 9   OtherDebtors               1000 non-null   object\n",
      " 10  PresentResidence           1000 non-null   int64 \n",
      " 11  Property                   1000 non-null   object\n",
      " 12  Age                        1000 non-null   int64 \n",
      " 13  OtherInstallment           1000 non-null   object\n",
      " 14  Housing                    1000 non-null   object\n",
      " 15  NumberOfExistingCredits    1000 non-null   int64 \n",
      " 16  Job                        1000 non-null   object\n",
      " 17  NumberLiabiltyPeople       1000 non-null   int64 \n",
      " 18  Telephone                  1000 non-null   object\n",
      " 19  foreignWorker              1000 non-null   object\n",
      " 20  status                     1000 non-null   int64 \n",
      "dtypes: int64(8), object(13)\n",
      "memory usage: 164.2+ KB\n"
     ]
    }
   ],
   "source": [
    "df.info()"
   ]
  },
  {
   "cell_type": "markdown",
   "id": "f4b91f7d",
   "metadata": {},
   "source": [
    "#### Info function shows that there are no missing values in the dataset"
   ]
  },
  {
   "cell_type": "code",
   "execution_count": 4,
   "id": "f7ece385",
   "metadata": {},
   "outputs": [
    {
     "data": {
      "text/plain": [
       "1    700\n",
       "2    300\n",
       "Name: status, dtype: int64"
      ]
     },
     "execution_count": 4,
     "metadata": {},
     "output_type": "execute_result"
    }
   ],
   "source": [
    "df['status'].value_counts()"
   ]
  },
  {
   "cell_type": "code",
   "execution_count": 5,
   "id": "b22930fc",
   "metadata": {},
   "outputs": [
    {
     "name": "stdout",
     "output_type": "stream",
     "text": [
      "There are 0 strongly correlated values with Status:\n",
      "Series([], Name: status, dtype: float64)\n"
     ]
    }
   ],
   "source": [
    "df_corr = df.corr()['status'][:-1] \n",
    "imp_features = df_corr[abs(df_corr) > 0.5].sort_values(ascending=False)\n",
    "print(\"There are {} strongly correlated values with Status:\\n{}\".format(len(imp_features), imp_features))"
   ]
  },
  {
   "cell_type": "code",
   "execution_count": 6,
   "id": "b1d9afbc",
   "metadata": {},
   "outputs": [
    {
     "data": {
      "text/html": [
       "<div>\n",
       "<style scoped>\n",
       "    .dataframe tbody tr th:only-of-type {\n",
       "        vertical-align: middle;\n",
       "    }\n",
       "\n",
       "    .dataframe tbody tr th {\n",
       "        vertical-align: top;\n",
       "    }\n",
       "\n",
       "    .dataframe thead th {\n",
       "        text-align: right;\n",
       "    }\n",
       "</style>\n",
       "<table border=\"1\" class=\"dataframe\">\n",
       "  <thead>\n",
       "    <tr style=\"text-align: right;\">\n",
       "      <th></th>\n",
       "      <th>DurationMonth</th>\n",
       "      <th>CreditAmount</th>\n",
       "      <th>InstallmentRatePercentage</th>\n",
       "      <th>PresentResidence</th>\n",
       "      <th>Age</th>\n",
       "      <th>NumberOfExistingCredits</th>\n",
       "      <th>NumberLiabiltyPeople</th>\n",
       "      <th>status</th>\n",
       "    </tr>\n",
       "  </thead>\n",
       "  <tbody>\n",
       "    <tr>\n",
       "      <th>DurationMonth</th>\n",
       "      <td>1.000000</td>\n",
       "      <td>0.624984</td>\n",
       "      <td>0.074749</td>\n",
       "      <td>0.034067</td>\n",
       "      <td>-0.036136</td>\n",
       "      <td>-0.011284</td>\n",
       "      <td>-0.023834</td>\n",
       "      <td>0.214927</td>\n",
       "    </tr>\n",
       "    <tr>\n",
       "      <th>CreditAmount</th>\n",
       "      <td>0.624984</td>\n",
       "      <td>1.000000</td>\n",
       "      <td>-0.271316</td>\n",
       "      <td>0.028926</td>\n",
       "      <td>0.032716</td>\n",
       "      <td>0.020795</td>\n",
       "      <td>0.017142</td>\n",
       "      <td>0.154739</td>\n",
       "    </tr>\n",
       "    <tr>\n",
       "      <th>InstallmentRatePercentage</th>\n",
       "      <td>0.074749</td>\n",
       "      <td>-0.271316</td>\n",
       "      <td>1.000000</td>\n",
       "      <td>0.049302</td>\n",
       "      <td>0.058266</td>\n",
       "      <td>0.021669</td>\n",
       "      <td>-0.071207</td>\n",
       "      <td>0.072404</td>\n",
       "    </tr>\n",
       "    <tr>\n",
       "      <th>PresentResidence</th>\n",
       "      <td>0.034067</td>\n",
       "      <td>0.028926</td>\n",
       "      <td>0.049302</td>\n",
       "      <td>1.000000</td>\n",
       "      <td>0.266419</td>\n",
       "      <td>0.089625</td>\n",
       "      <td>0.042643</td>\n",
       "      <td>0.002967</td>\n",
       "    </tr>\n",
       "    <tr>\n",
       "      <th>Age</th>\n",
       "      <td>-0.036136</td>\n",
       "      <td>0.032716</td>\n",
       "      <td>0.058266</td>\n",
       "      <td>0.266419</td>\n",
       "      <td>1.000000</td>\n",
       "      <td>0.149254</td>\n",
       "      <td>0.118201</td>\n",
       "      <td>-0.091127</td>\n",
       "    </tr>\n",
       "    <tr>\n",
       "      <th>NumberOfExistingCredits</th>\n",
       "      <td>-0.011284</td>\n",
       "      <td>0.020795</td>\n",
       "      <td>0.021669</td>\n",
       "      <td>0.089625</td>\n",
       "      <td>0.149254</td>\n",
       "      <td>1.000000</td>\n",
       "      <td>0.109667</td>\n",
       "      <td>-0.045732</td>\n",
       "    </tr>\n",
       "    <tr>\n",
       "      <th>NumberLiabiltyPeople</th>\n",
       "      <td>-0.023834</td>\n",
       "      <td>0.017142</td>\n",
       "      <td>-0.071207</td>\n",
       "      <td>0.042643</td>\n",
       "      <td>0.118201</td>\n",
       "      <td>0.109667</td>\n",
       "      <td>1.000000</td>\n",
       "      <td>-0.003015</td>\n",
       "    </tr>\n",
       "    <tr>\n",
       "      <th>status</th>\n",
       "      <td>0.214927</td>\n",
       "      <td>0.154739</td>\n",
       "      <td>0.072404</td>\n",
       "      <td>0.002967</td>\n",
       "      <td>-0.091127</td>\n",
       "      <td>-0.045732</td>\n",
       "      <td>-0.003015</td>\n",
       "      <td>1.000000</td>\n",
       "    </tr>\n",
       "  </tbody>\n",
       "</table>\n",
       "</div>"
      ],
      "text/plain": [
       "                           DurationMonth  CreditAmount  \\\n",
       "DurationMonth                   1.000000      0.624984   \n",
       "CreditAmount                    0.624984      1.000000   \n",
       "InstallmentRatePercentage       0.074749     -0.271316   \n",
       "PresentResidence                0.034067      0.028926   \n",
       "Age                            -0.036136      0.032716   \n",
       "NumberOfExistingCredits        -0.011284      0.020795   \n",
       "NumberLiabiltyPeople           -0.023834      0.017142   \n",
       "status                          0.214927      0.154739   \n",
       "\n",
       "                           InstallmentRatePercentage  PresentResidence  \\\n",
       "DurationMonth                               0.074749          0.034067   \n",
       "CreditAmount                               -0.271316          0.028926   \n",
       "InstallmentRatePercentage                   1.000000          0.049302   \n",
       "PresentResidence                            0.049302          1.000000   \n",
       "Age                                         0.058266          0.266419   \n",
       "NumberOfExistingCredits                     0.021669          0.089625   \n",
       "NumberLiabiltyPeople                       -0.071207          0.042643   \n",
       "status                                      0.072404          0.002967   \n",
       "\n",
       "                                Age  NumberOfExistingCredits  \\\n",
       "DurationMonth             -0.036136                -0.011284   \n",
       "CreditAmount               0.032716                 0.020795   \n",
       "InstallmentRatePercentage  0.058266                 0.021669   \n",
       "PresentResidence           0.266419                 0.089625   \n",
       "Age                        1.000000                 0.149254   \n",
       "NumberOfExistingCredits    0.149254                 1.000000   \n",
       "NumberLiabiltyPeople       0.118201                 0.109667   \n",
       "status                    -0.091127                -0.045732   \n",
       "\n",
       "                           NumberLiabiltyPeople    status  \n",
       "DurationMonth                         -0.023834  0.214927  \n",
       "CreditAmount                           0.017142  0.154739  \n",
       "InstallmentRatePercentage             -0.071207  0.072404  \n",
       "PresentResidence                       0.042643  0.002967  \n",
       "Age                                    0.118201 -0.091127  \n",
       "NumberOfExistingCredits                0.109667 -0.045732  \n",
       "NumberLiabiltyPeople                   1.000000 -0.003015  \n",
       "status                                -0.003015  1.000000  "
      ]
     },
     "execution_count": 6,
     "metadata": {},
     "output_type": "execute_result"
    }
   ],
   "source": [
    "df.corr()"
   ]
  },
  {
   "cell_type": "markdown",
   "id": "179c873a",
   "metadata": {},
   "source": [
    "#### From above a very little or no correlation can be found between Attributes and Target Variable."
   ]
  },
  {
   "cell_type": "markdown",
   "id": "fe6f66b0",
   "metadata": {},
   "source": [
    "### Elementry EDA for checking the Data distribution"
   ]
  },
  {
   "cell_type": "code",
   "execution_count": 7,
   "id": "823efd86",
   "metadata": {},
   "outputs": [
    {
     "data": {
      "image/png": "[encoded data removed]",
      "text/plain": [
       "<Figure size 1152x1440 with 9 Axes>"
      ]
     },
     "metadata": {
      "needs_background": "light"
     },
     "output_type": "display_data"
    }
   ],
   "source": [
    "df.hist(figsize=(16, 20), bins=50, xlabelsize=8, ylabelsize=8);"
   ]
  },
  {
   "cell_type": "markdown",
   "id": "40ee0f61",
   "metadata": {},
   "source": [
    "### EDA for categorical data"
   ]
  },
  {
   "cell_type": "code",
   "execution_count": 8,
   "id": "a7468e7a",
   "metadata": {},
   "outputs": [
    {
     "data": {
      "text/html": [
       "<div>\n",
       "<style scoped>\n",
       "    .dataframe tbody tr th:only-of-type {\n",
       "        vertical-align: middle;\n",
       "    }\n",
       "\n",
       "    .dataframe tbody tr th {\n",
       "        vertical-align: top;\n",
       "    }\n",
       "\n",
       "    .dataframe thead th {\n",
       "        text-align: right;\n",
       "    }\n",
       "</style>\n",
       "<table border=\"1\" class=\"dataframe\">\n",
       "  <thead>\n",
       "    <tr style=\"text-align: right;\">\n",
       "      <th></th>\n",
       "      <th>checkingAccount</th>\n",
       "      <th>CreditHistory</th>\n",
       "      <th>Purpose</th>\n",
       "      <th>SavingsAccount/bonds</th>\n",
       "      <th>PresentEmploymentSince</th>\n",
       "      <th>PersonalStatus</th>\n",
       "      <th>OtherDebtors</th>\n",
       "      <th>Property</th>\n",
       "      <th>OtherInstallment</th>\n",
       "      <th>Housing</th>\n",
       "      <th>Job</th>\n",
       "      <th>Telephone</th>\n",
       "      <th>foreignWorker</th>\n",
       "    </tr>\n",
       "  </thead>\n",
       "  <tbody>\n",
       "    <tr>\n",
       "      <th>0</th>\n",
       "      <td>A11</td>\n",
       "      <td>A34</td>\n",
       "      <td>A43</td>\n",
       "      <td>A65</td>\n",
       "      <td>A75</td>\n",
       "      <td>A93</td>\n",
       "      <td>A101</td>\n",
       "      <td>A121</td>\n",
       "      <td>A143</td>\n",
       "      <td>A152</td>\n",
       "      <td>A173</td>\n",
       "      <td>A192</td>\n",
       "      <td>A201</td>\n",
       "    </tr>\n",
       "    <tr>\n",
       "      <th>1</th>\n",
       "      <td>A12</td>\n",
       "      <td>A32</td>\n",
       "      <td>A43</td>\n",
       "      <td>A61</td>\n",
       "      <td>A73</td>\n",
       "      <td>A92</td>\n",
       "      <td>A101</td>\n",
       "      <td>A121</td>\n",
       "      <td>A143</td>\n",
       "      <td>A152</td>\n",
       "      <td>A173</td>\n",
       "      <td>A191</td>\n",
       "      <td>A201</td>\n",
       "    </tr>\n",
       "    <tr>\n",
       "      <th>2</th>\n",
       "      <td>A14</td>\n",
       "      <td>A34</td>\n",
       "      <td>A46</td>\n",
       "      <td>A61</td>\n",
       "      <td>A74</td>\n",
       "      <td>A93</td>\n",
       "      <td>A101</td>\n",
       "      <td>A121</td>\n",
       "      <td>A143</td>\n",
       "      <td>A152</td>\n",
       "      <td>A172</td>\n",
       "      <td>A191</td>\n",
       "      <td>A201</td>\n",
       "    </tr>\n",
       "    <tr>\n",
       "      <th>3</th>\n",
       "      <td>A11</td>\n",
       "      <td>A32</td>\n",
       "      <td>A42</td>\n",
       "      <td>A61</td>\n",
       "      <td>A74</td>\n",
       "      <td>A93</td>\n",
       "      <td>A103</td>\n",
       "      <td>A122</td>\n",
       "      <td>A143</td>\n",
       "      <td>A153</td>\n",
       "      <td>A173</td>\n",
       "      <td>A191</td>\n",
       "      <td>A201</td>\n",
       "    </tr>\n",
       "    <tr>\n",
       "      <th>4</th>\n",
       "      <td>A11</td>\n",
       "      <td>A33</td>\n",
       "      <td>A40</td>\n",
       "      <td>A61</td>\n",
       "      <td>A73</td>\n",
       "      <td>A93</td>\n",
       "      <td>A101</td>\n",
       "      <td>A124</td>\n",
       "      <td>A143</td>\n",
       "      <td>A153</td>\n",
       "      <td>A173</td>\n",
       "      <td>A191</td>\n",
       "      <td>A201</td>\n",
       "    </tr>\n",
       "  </tbody>\n",
       "</table>\n",
       "</div>"
      ],
      "text/plain": [
       "  checkingAccount CreditHistory Purpose SavingsAccount/bonds  \\\n",
       "0             A11           A34     A43                  A65   \n",
       "1             A12           A32     A43                  A61   \n",
       "2             A14           A34     A46                  A61   \n",
       "3             A11           A32     A42                  A61   \n",
       "4             A11           A33     A40                  A61   \n",
       "\n",
       "  PresentEmploymentSince PersonalStatus OtherDebtors Property  \\\n",
       "0                    A75            A93         A101     A121   \n",
       "1                    A73            A92         A101     A121   \n",
       "2                    A74            A93         A101     A121   \n",
       "3                    A74            A93         A103     A122   \n",
       "4                    A73            A93         A101     A124   \n",
       "\n",
       "  OtherInstallment Housing   Job Telephone foreignWorker  \n",
       "0             A143    A152  A173      A192          A201  \n",
       "1             A143    A152  A173      A191          A201  \n",
       "2             A143    A152  A172      A191          A201  \n",
       "3             A143    A153  A173      A191          A201  \n",
       "4             A143    A153  A173      A191          A201  "
      ]
     },
     "execution_count": 8,
     "metadata": {},
     "output_type": "execute_result"
    }
   ],
   "source": [
    "df_cat = df.select_dtypes(include = 'object').copy()\n",
    "df_cat.head()"
   ]
  },
  {
   "cell_type": "code",
   "execution_count": 9,
   "id": "df42e192",
   "metadata": {},
   "outputs": [
    {
     "data": {
      "text/plain": [
       "checkingAccount           0\n",
       "CreditHistory             0\n",
       "Purpose                   0\n",
       "SavingsAccount/bonds      0\n",
       "PresentEmploymentSince    0\n",
       "PersonalStatus            0\n",
       "OtherDebtors              0\n",
       "Property                  0\n",
       "OtherInstallment          0\n",
       "Housing                   0\n",
       "Job                       0\n",
       "Telephone                 0\n",
       "foreignWorker             0\n",
       "dtype: int64"
      ]
     },
     "execution_count": 9,
     "metadata": {},
     "output_type": "execute_result"
    }
   ],
   "source": [
    "df_cat.isnull().sum()"
   ]
  },
  {
   "cell_type": "markdown",
   "id": "120d7819",
   "metadata": {},
   "source": [
    "### Data distribution for the categorical attributes"
   ]
  },
  {
   "cell_type": "code",
   "execution_count": 10,
   "id": "dc95605a",
   "metadata": {},
   "outputs": [
    {
     "data": {
      "text/plain": [
       "<AxesSubplot:xlabel='Job', ylabel='count'>"
      ]
     },
     "execution_count": 10,
     "metadata": {},
     "output_type": "execute_result"
    },
    {
     "data": {
      "image/png": "[encoded data removed]",
      "text/plain": [
       "<Figure size 1080x720 with 6 Axes>"
      ]
     },
     "metadata": {
      "needs_background": "light"
     },
     "output_type": "display_data"
    }
   ],
   "source": [
    "fig = plt.figure(figsize = (15,10))\n",
    "\n",
    "ax1 = fig.add_subplot(2,3,1)\n",
    "sns.countplot(data = df_cat, x = 'checkingAccount', ax=ax1)\n",
    "\n",
    "ax2 = fig.add_subplot(2,3,2)\n",
    "sns.countplot(data = df_cat, x = 'CreditHistory', ax=ax2)\n",
    "\n",
    "ax3 = fig.add_subplot(2,3,3)\n",
    "sns.countplot(data = df_cat, x = 'Purpose', ax=ax3)\n",
    "\n",
    "ax4 = fig.add_subplot(2,3,4)\n",
    "sns.countplot(data = df_cat, x = 'PresentEmploymentSince', ax=ax4)\n",
    "\n",
    "ax5 = fig.add_subplot(2,3,5)\n",
    "sns.countplot(data = df_cat, x = 'OtherDebtors', ax=ax5)\n",
    "\n",
    "ax6 = fig.add_subplot(2,3,6)\n",
    "sns.countplot(data = df_cat, x = 'Job', ax=ax6)\n"
   ]
  },
  {
   "cell_type": "markdown",
   "id": "7ef8085a",
   "metadata": {},
   "source": [
    "### EDA for Numeric Data"
   ]
  },
  {
   "cell_type": "code",
   "execution_count": 11,
   "id": "b47b589a",
   "metadata": {},
   "outputs": [
    {
     "data": {
      "text/html": [
       "<div>\n",
       "<style scoped>\n",
       "    .dataframe tbody tr th:only-of-type {\n",
       "        vertical-align: middle;\n",
       "    }\n",
       "\n",
       "    .dataframe tbody tr th {\n",
       "        vertical-align: top;\n",
       "    }\n",
       "\n",
       "    .dataframe thead th {\n",
       "        text-align: right;\n",
       "    }\n",
       "</style>\n",
       "<table border=\"1\" class=\"dataframe\">\n",
       "  <thead>\n",
       "    <tr style=\"text-align: right;\">\n",
       "      <th></th>\n",
       "      <th>DurationMonth</th>\n",
       "      <th>CreditAmount</th>\n",
       "      <th>InstallmentRatePercentage</th>\n",
       "      <th>PresentResidence</th>\n",
       "      <th>Age</th>\n",
       "      <th>NumberOfExistingCredits</th>\n",
       "      <th>NumberLiabiltyPeople</th>\n",
       "      <th>status</th>\n",
       "    </tr>\n",
       "  </thead>\n",
       "  <tbody>\n",
       "    <tr>\n",
       "      <th>0</th>\n",
       "      <td>6</td>\n",
       "      <td>1169</td>\n",
       "      <td>4</td>\n",
       "      <td>4</td>\n",
       "      <td>67</td>\n",
       "      <td>2</td>\n",
       "      <td>1</td>\n",
       "      <td>1</td>\n",
       "    </tr>\n",
       "    <tr>\n",
       "      <th>1</th>\n",
       "      <td>48</td>\n",
       "      <td>5951</td>\n",
       "      <td>2</td>\n",
       "      <td>2</td>\n",
       "      <td>22</td>\n",
       "      <td>1</td>\n",
       "      <td>1</td>\n",
       "      <td>2</td>\n",
       "    </tr>\n",
       "    <tr>\n",
       "      <th>2</th>\n",
       "      <td>12</td>\n",
       "      <td>2096</td>\n",
       "      <td>2</td>\n",
       "      <td>3</td>\n",
       "      <td>49</td>\n",
       "      <td>1</td>\n",
       "      <td>2</td>\n",
       "      <td>1</td>\n",
       "    </tr>\n",
       "    <tr>\n",
       "      <th>3</th>\n",
       "      <td>42</td>\n",
       "      <td>7882</td>\n",
       "      <td>2</td>\n",
       "      <td>4</td>\n",
       "      <td>45</td>\n",
       "      <td>1</td>\n",
       "      <td>2</td>\n",
       "      <td>1</td>\n",
       "    </tr>\n",
       "    <tr>\n",
       "      <th>4</th>\n",
       "      <td>24</td>\n",
       "      <td>4870</td>\n",
       "      <td>3</td>\n",
       "      <td>4</td>\n",
       "      <td>53</td>\n",
       "      <td>2</td>\n",
       "      <td>2</td>\n",
       "      <td>2</td>\n",
       "    </tr>\n",
       "  </tbody>\n",
       "</table>\n",
       "</div>"
      ],
      "text/plain": [
       "   DurationMonth  CreditAmount  InstallmentRatePercentage  PresentResidence  \\\n",
       "0              6          1169                          4                 4   \n",
       "1             48          5951                          2                 2   \n",
       "2             12          2096                          2                 3   \n",
       "3             42          7882                          2                 4   \n",
       "4             24          4870                          3                 4   \n",
       "\n",
       "   Age  NumberOfExistingCredits  NumberLiabiltyPeople  status  \n",
       "0   67                        2                     1       1  \n",
       "1   22                        1                     1       2  \n",
       "2   49                        1                     2       1  \n",
       "3   45                        1                     2       1  \n",
       "4   53                        2                     2       2  "
      ]
     },
     "execution_count": 11,
     "metadata": {},
     "output_type": "execute_result"
    }
   ],
   "source": [
    "df_num = df.select_dtypes(include=[np.number])\n",
    "df_num.head()"
   ]
  },
  {
   "cell_type": "code",
   "execution_count": 12,
   "id": "2f7f54af",
   "metadata": {},
   "outputs": [
    {
     "name": "stderr",
     "output_type": "stream",
     "text": [
      "C:\\Users\\dell\\anaconda3\\lib\\site-packages\\seaborn\\distributions.py:2619: FutureWarning: `distplot` is a deprecated function and will be removed in a future version. Please adapt your code to use either `displot` (a figure-level function with similar flexibility) or `histplot` (an axes-level function for histograms).\n",
      "  warnings.warn(msg, FutureWarning)\n",
      "C:\\Users\\dell\\anaconda3\\lib\\site-packages\\seaborn\\distributions.py:2619: FutureWarning: `distplot` is a deprecated function and will be removed in a future version. Please adapt your code to use either `displot` (a figure-level function with similar flexibility) or `histplot` (an axes-level function for histograms).\n",
      "  warnings.warn(msg, FutureWarning)\n",
      "C:\\Users\\dell\\anaconda3\\lib\\site-packages\\seaborn\\distributions.py:2619: FutureWarning: `distplot` is a deprecated function and will be removed in a future version. Please adapt your code to use either `displot` (a figure-level function with similar flexibility) or `histplot` (an axes-level function for histograms).\n",
      "  warnings.warn(msg, FutureWarning)\n"
     ]
    },
    {
     "data": {
      "image/png": "[encoded data removed]",
      "text/plain": [
       "<Figure size 1080x720 with 3 Axes>"
      ]
     },
     "metadata": {
      "needs_background": "light"
     },
     "output_type": "display_data"
    }
   ],
   "source": [
    "fig = plt.figure(figsize = (15,10))\n",
    "ax1 = fig.add_subplot(2,3,1)\n",
    "sns.distplot(df_num['CreditAmount'], ax=ax1)\n",
    "\n",
    "ax2 = fig.add_subplot(2,3,2)\n",
    "sns.distplot(df_num['Age'], ax=ax2)\n",
    "\n",
    "ax3 = fig.add_subplot(2,3,3)\n",
    "sns.distplot(df_num['DurationMonth'], ax=ax3)\n",
    "plt.show()"
   ]
  },
  {
   "cell_type": "markdown",
   "id": "bfff54eb",
   "metadata": {},
   "source": [
    "## Machine Learning Model"
   ]
  },
  {
   "cell_type": "markdown",
   "id": "e456bbd8",
   "metadata": {},
   "source": [
    "### Firstly we'll encode the categorical data. I have used Ordinal Encoder here as it is more efficient and easy to implement."
   ]
  },
  {
   "cell_type": "code",
   "execution_count": 13,
   "id": "a56308b5",
   "metadata": {},
   "outputs": [],
   "source": [
    "from sklearn.preprocessing import OrdinalEncoder\n",
    "\n",
    "ord_enc = OrdinalEncoder()\n",
    "df[\"checkingAccount1\"] = ord_enc.fit_transform(df[[\"checkingAccount\"]])\n",
    "df[\"CreditHistory1\"] = ord_enc.fit_transform(df[[\"CreditHistory\"]])\n",
    "df[\"Purpose1\"] = ord_enc.fit_transform(df[[\"Purpose\"]])\n",
    "df[\"SavingsAccount/bonds1\"] = ord_enc.fit_transform(df[[\"SavingsAccount/bonds\"]])\n",
    "df[\"PresentEmploymentSince1\"] = ord_enc.fit_transform(df[[\"PresentEmploymentSince\"]])\n",
    "df[\"PersonalStatus1\"] = ord_enc.fit_transform(df[[\"PersonalStatus\"]])\n",
    "df[\"OtherDebtors1\"] = ord_enc.fit_transform(df[[\"OtherDebtors\"]])\n",
    "df[\"OtherInstallment1\"] = ord_enc.fit_transform(df[[\"OtherInstallment\"]])\n",
    "df[\"Housing1\"] = ord_enc.fit_transform(df[[\"Housing\"]])\n",
    "df[\"Property1\"] = ord_enc.fit_transform(df[[\"Property\"]])\n",
    "df[\"foreignWorker1\"] = ord_enc.fit_transform(df[[\"foreignWorker\"]])\n",
    "df[\"Job1\"] = ord_enc.fit_transform(df[[\"Job\"]])"
   ]
  },
  {
   "cell_type": "markdown",
   "id": "a8453b78",
   "metadata": {},
   "source": [
    "### Dropping the unnecessary columns that are not required for the training also creating 'X' variable and 'Y' to partition the dataset into base attributes and target attribute respectively. "
   ]
  },
  {
   "cell_type": "code",
   "execution_count": 21,
   "id": "e1e231a8",
   "metadata": {},
   "outputs": [],
   "source": [
    "X = df.drop(columns = ['status','checkingAccount','PersonalStatus','CreditHistory','Purpose','OtherDebtors','SavingsAccount/bonds','PresentEmploymentSince','Job','Housing','OtherInstallment','Telephone','foreignWorker','Property'],axis=1)\n",
    "Y = df['status']"
   ]
  },
  {
   "cell_type": "code",
   "execution_count": 22,
   "id": "b655b9e5",
   "metadata": {},
   "outputs": [],
   "source": [
    "X_train, X_test, Y_train, Y_test = train_test_split(X,Y, test_size=0.2, random_state=2)"
   ]
  },
  {
   "cell_type": "code",
   "execution_count": 31,
   "id": "fedc6f79",
   "metadata": {},
   "outputs": [
    {
     "name": "stdout",
     "output_type": "stream",
     "text": [
      "<class 'pandas.core.frame.DataFrame'>\n",
      "Int64Index: 800 entries, 175 to 168\n",
      "Data columns (total 19 columns):\n",
      " #   Column                     Non-Null Count  Dtype  \n",
      "---  ------                     --------------  -----  \n",
      " 0   DurationMonth              800 non-null    int64  \n",
      " 1   CreditAmount               800 non-null    int64  \n",
      " 2   InstallmentRatePercentage  800 non-null    int64  \n",
      " 3   PresentResidence           800 non-null    int64  \n",
      " 4   Age                        800 non-null    int64  \n",
      " 5   NumberOfExistingCredits    800 non-null    int64  \n",
      " 6   NumberLiabiltyPeople       800 non-null    int64  \n",
      " 7   checkingAccount1           800 non-null    float64\n",
      " 8   CreditHistory1             800 non-null    float64\n",
      " 9   Purpose1                   800 non-null    float64\n",
      " 10  SavingsAccount/bonds1      800 non-null    float64\n",
      " 11  PresentEmploymentSince1    800 non-null    float64\n",
      " 12  PersonalStatus1            800 non-null    float64\n",
      " 13  OtherDebtors1              800 non-null    float64\n",
      " 14  OtherInstallment1          800 non-null    float64\n",
      " 15  Housing1                   800 non-null    float64\n",
      " 16  Property1                  800 non-null    float64\n",
      " 17  foreignWorker1             800 non-null    float64\n",
      " 18  Job1                       800 non-null    float64\n",
      "dtypes: float64(12), int64(7)\n",
      "memory usage: 125.0 KB\n"
     ]
    }
   ],
   "source": [
    "X_train.info()"
   ]
  },
  {
   "cell_type": "markdown",
   "id": "84b2573f",
   "metadata": {},
   "source": [
    "### Logistic Regression"
   ]
  },
  {
   "cell_type": "code",
   "execution_count": 24,
   "id": "874300bf",
   "metadata": {},
   "outputs": [
    {
     "name": "stderr",
     "output_type": "stream",
     "text": [
      "C:\\Users\\dell\\anaconda3\\lib\\site-packages\\sklearn\\linear_model\\_logistic.py:763: ConvergenceWarning: lbfgs failed to converge (status=1):\n",
      "STOP: TOTAL NO. of ITERATIONS REACHED LIMIT.\n",
      "\n",
      "Increase the number of iterations (max_iter) or scale the data as shown in:\n",
      "    https://scikit-learn.org/stable/modules/preprocessing.html\n",
      "Please also refer to the documentation for alternative solver options:\n",
      "    https://scikit-learn.org/stable/modules/linear_model.html#logistic-regression\n",
      "  n_iter_i = _check_optimize_result(\n"
     ]
    },
    {
     "data": {
      "text/plain": [
       "LogisticRegression()"
      ]
     },
     "execution_count": 24,
     "metadata": {},
     "output_type": "execute_result"
    }
   ],
   "source": [
    "model = LogisticRegression()\n",
    "model.fit(X_train, Y_train)"
   ]
  },
  {
   "cell_type": "code",
   "execution_count": 25,
   "id": "8f3a35a6",
   "metadata": {},
   "outputs": [
    {
     "name": "stdout",
     "output_type": "stream",
     "text": [
      "Accuracy score of training data :  0.78\n"
     ]
    }
   ],
   "source": [
    "X_train_prediction = model.predict(X_train)\n",
    "training_data_accuracy = accuracy_score(Y_train, X_train_prediction)\n",
    "print('Accuracy score of training data : ', training_data_accuracy)"
   ]
  },
  {
   "cell_type": "code",
   "execution_count": 32,
   "id": "b6fba4ac",
   "metadata": {},
   "outputs": [
    {
     "name": "stdout",
     "output_type": "stream",
     "text": [
      "Accuracy score of test data :  0.71\n"
     ]
    }
   ],
   "source": [
    "X_test_prediction = model.predict(X_test)\n",
    "test_data_accuracy = accuracy_score(Y_test, X_test_prediction)\n",
    "print('Accuracy score of test data : ', test_data_accuracy)"
   ]
  },
  {
   "cell_type": "markdown",
   "id": "0540f275",
   "metadata": {},
   "source": [
    "#### Test accuracy of 0.71 is pretty decent for the classification problem here."
   ]
  },
  {
   "cell_type": "markdown",
   "id": "d32fa079",
   "metadata": {},
   "source": [
    "### Support Vector Machine"
   ]
  },
  {
   "cell_type": "code",
   "execution_count": 28,
   "id": "3ea93235",
   "metadata": {},
   "outputs": [],
   "source": [
    "svc = svm.SVC(kernel='linear', C=1).fit(X_train, Y_train)"
   ]
  },
  {
   "cell_type": "code",
   "execution_count": 29,
   "id": "846724f1",
   "metadata": {},
   "outputs": [
    {
     "name": "stdout",
     "output_type": "stream",
     "text": [
      "Accuracy score of training data :  0.7825\n"
     ]
    }
   ],
   "source": [
    "X_train_prediction = svc.predict(X_train)\n",
    "training_data_accuracy = accuracy_score(Y_train, X_train_prediction)\n",
    "print('Accuracy score of training data : ', training_data_accuracy)"
   ]
  },
  {
   "cell_type": "code",
   "execution_count": 30,
   "id": "5eaf2da2",
   "metadata": {},
   "outputs": [
    {
     "name": "stdout",
     "output_type": "stream",
     "text": [
      "Accuracy score of test data :  0.72\n"
     ]
    }
   ],
   "source": [
    "X_test_prediction = svc.predict(X_test)\n",
    "test_data_accuracy = accuracy_score(Y_test, X_test_prediction)\n",
    "print('Accuracy score of test data : ', test_data_accuracy)"
   ]
  },
  {
   "cell_type": "markdown",
   "id": "e6a8f8e2",
   "metadata": {},
   "source": [
    "#### Similar accuracy is achieved through SVM, shows are model is well trained and is generalizing the data pretty decently."
   ]
  }
 ],
 "metadata": {
  "kernelspec": {
   "display_name": "Python 3 (ipykernel)",
   "language": "python",
   "name": "python3"
  },
  "language_info": {
   "codemirror_mode": {
    "name": "ipython",
    "version": 3
   },
   "file_extension": ".py",
   "mimetype": "text/x-python",
   "name": "python",
   "nbconvert_exporter": "python",
   "pygments_lexer": "ipython3",
   "version": "3.9.7"
  }
 },
 "nbformat": 4,
 "nbformat_minor": 5
}
